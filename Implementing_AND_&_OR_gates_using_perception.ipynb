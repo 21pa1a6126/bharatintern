{
  "nbformat": 4,
  "nbformat_minor": 0,
  "metadata": {
    "colab": {
      "provenance": [],
      "authorship_tag": "ABX9TyMeuIbQyYue7jV2S4mSjYaN",
      "include_colab_link": true
    },
    "kernelspec": {
      "name": "python3",
      "display_name": "Python 3"
    },
    "language_info": {
      "name": "python"
    }
  },
  "cells": [
    {
      "cell_type": "markdown",
      "metadata": {
        "id": "view-in-github",
        "colab_type": "text"
      },
      "source": [
        "<a href=\"https://colab.research.google.com/github/21pa1a6126/bharatintern/blob/main/Implementing_AND_%26_OR_gates_using_perception.ipynb\" target=\"_parent\"><img src=\"https://colab.research.google.com/assets/colab-badge.svg\" alt=\"Open In Colab\"/></a>"
      ]
    },
    {
      "cell_type": "code",
      "source": [
        "import numpy as np\n",
        "import random\n",
        "import sys"
      ],
      "metadata": {
        "id": "FYf3U5KiScSQ"
      },
      "execution_count": 5,
      "outputs": []
    },
    {
      "cell_type": "code",
      "source": [
        "and_gate = [\n",
        "    [(1, 1), 1],\n",
        "    [(1, 0), 0],\n",
        "    [(0, 1), 0],\n",
        "    [(0,0), 0]\n",
        "]"
      ],
      "metadata": {
        "id": "LGaq4toISfu_"
      },
      "execution_count": 6,
      "outputs": []
    },
    {
      "cell_type": "code",
      "source": [
        "or_gate = [\n",
        "    [(1, 1), 1],\n",
        "    [(1, 0), 1],\n",
        "    [(0, 1), 1],\n",
        "    [(0,0), 0]\n",
        "]"
      ],
      "metadata": {
        "id": "ijXDgSYPSvs_"
      },
      "execution_count": 7,
      "outputs": []
    },
    {
      "cell_type": "code",
      "source": [
        "def activation_function(x):\n",
        "    if x > 0:\n",
        "        return 1\n",
        "    elif x < 0:\n",
        "        return -1"
      ],
      "metadata": {
        "id": "JLKVv6WFS1I-"
      },
      "execution_count": 9,
      "outputs": []
    },
    {
      "cell_type": "code",
      "source": [
        "def run_perceptron(gate):\n",
        "    bias = (1,)\n",
        "    learning_constant = 0.1\n",
        "    n = 50\n",
        "\n",
        "    weights = []\n",
        "    for i in range(3):\n",
        "        weights.append(random.uniform(-1, 1))\n",
        "\n",
        "    for i in range(n):\n",
        "        inputs, expected_output = random.choice(gate)\n",
        "        inputs = inputs + bias\n",
        "        weighted_sum = np.dot(inputs, weights)\n",
        "        guess = activation_function(weighted_sum)\n",
        "        error = expected_output - guess\n",
        "        weights += learning_constant * error * np.asarray(inputs)\n",
        "\n",
        "\n",
        "    inputs, expected_output = random.choice(gate)\n",
        "    print(\"inputs: \" + str(inputs))\n",
        "    inputs = inputs + bias\n",
        "    weighted_sum = np.dot(inputs, weights)\n",
        "    print(\"weighted sum: \" + str(weighted_sum))\n",
        "    print(\"correct answer: \" + str(expected_output))\n",
        "    print(\"perceptron guess: \" + str(activation_function(weighted_sum)) + '\\n')\n",
        "\n"
      ],
      "metadata": {
        "id": "c3JkWKuXS7dH"
      },
      "execution_count": 15,
      "outputs": []
    },
    {
      "cell_type": "code",
      "source": [
        "tests=2\n",
        "for i in range(tests):\n",
        "    print(\"AND\")\n",
        "    run_perceptron(and_gate)\n",
        "\n",
        "    print(\"OR\")\n",
        "    run_perceptron(or_gate)"
      ],
      "metadata": {
        "colab": {
          "base_uri": "https://localhost:8080/"
        },
        "id": "YLu08dxiV0cC",
        "outputId": "ce6b8d46-a88c-4e6d-af5a-ede4c2d675b7"
      },
      "execution_count": 16,
      "outputs": [
        {
          "output_type": "stream",
          "name": "stdout",
          "text": [
            "AND\n",
            "inputs: (0, 0)\n",
            "weighted sum: 0.09425143982586276\n",
            "correct answer: 0\n",
            "perceptron guess: 1\n",
            "\n",
            "OR\n",
            "inputs: (1, 1)\n",
            "weighted sum: 0.38850369900018533\n",
            "correct answer: 1\n",
            "perceptron guess: 1\n",
            "\n",
            "AND\n",
            "inputs: (0, 1)\n",
            "weighted sum: 0.16053535067467864\n",
            "correct answer: 0\n",
            "perceptron guess: 1\n",
            "\n",
            "OR\n",
            "inputs: (0, 0)\n",
            "weighted sum: 0.010102231262938605\n",
            "correct answer: 0\n",
            "perceptron guess: 1\n",
            "\n"
          ]
        }
      ]
    }
  ]
}